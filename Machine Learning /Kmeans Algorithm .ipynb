{
 "cells": [
  {
   "cell_type": "code",
   "execution_count": 38,
   "metadata": {
    "scrolled": true
   },
   "outputs": [
    {
     "name": "stdout",
     "output_type": "stream",
     "text": [
      "Samples =  [[ 4  5]\n",
      " [-2 -3]\n",
      " [ 3  4]\n",
      " [-5  4]\n",
      " [-4 -3]\n",
      " [ 4  6]\n",
      " [ 3 -2]\n",
      " [-3  3]]\n",
      "Class of samples X =  [0, 2, 0, 1, 2, 0, 1, 1]\n",
      "Location of clusters =  [4.333333333333333, 0.0, -3.0]\n",
      "New sample is = [[ 3  2]\n",
      " [ 1 -1]\n",
      " [-1  1]\n",
      " [-2 -2]]\n",
      "Class of new sample is =  [0, 1, 1, 2]\n"
     ]
    }
   ],
   "source": [
    "import numpy as np\n",
    "import random\n",
    "\n",
    "\n",
    "def kmeans(X, Xnew, num_clus):\n",
    "    \n",
    "    cluster = random.choices(X, k = num_clus)\n",
    "    m = np.shape(X)[0] \n",
    "    \n",
    "    for num_iter in range(100):\n",
    "        \n",
    "        # Assign the closest cluster to each sample\n",
    "        index = []    \n",
    "        for i in range(m):\n",
    "            distances = []\n",
    "            for j in range(num_clus):\n",
    "                distance = np.dot((X[i]-cluster[j]), (X[i]-cluster[j]))\n",
    "                distances.append(distance)\n",
    "            index.append(np.argmin(distances))\n",
    "            \n",
    "        # Move clusters to the average of their assigned samples\n",
    "        for j in range(num_clus):\n",
    "            assigned_samples = []\n",
    "            for i in range(m):\n",
    "                if index[i] == j:\n",
    "                    assigned_samples.append(X[i])\n",
    "            cluster[j] = np.mean(assigned_samples)        \n",
    "            \n",
    "    # Now predict new samples  \n",
    "    new_index = []\n",
    "    for i in range(len(Xnew)):\n",
    "        new_distances = []\n",
    "        for j in range(num_clus):\n",
    "            new_distance = np.dot((Xnew[i]-cluster[j]), (Xnew[i]-cluster[j]))\n",
    "            new_distances.append(new_distance)\n",
    "        new_index.append(np.argmin(new_distances)) \n",
    "   \n",
    "    return [index, cluster, new_index]\n",
    "\n",
    "\n",
    "X = np.array([[4,5],[-2,-3],[3,4],[-5,4],[-4,-3],[4,6],[3,-2],[-3,3]])\n",
    "Xnew = np.array([[3,2],[1,-1],[-1,1],[-2,-2]]) \n",
    "num_clus = 3\n",
    "\n",
    "[index, cluster, new_index] = kmeans(X, Xnew, num_clus)  \n",
    "print('Samples = ', X)\n",
    "print('Class of samples X = ', index)\n",
    "print('Location of clusters = ', cluster)\n",
    "print('New sample is =', Xnew)\n",
    "print('Class of new sample is = ', new_index)"
   ]
  },
  {
   "cell_type": "markdown",
   "metadata": {},
   "source": [
    "As we can see with 3 classes, the algorithm classifies $(x,y)$ points in class 0 if both $x>0, y>0$ and classifies as class 2 if both $x<0, y<0$ and class 1 if $x\\,y<0$. The new samples are correctly classified in this way."
   ]
  }
 ],
 "metadata": {
  "kernelspec": {
   "display_name": "Python 3",
   "language": "python",
   "name": "python3"
  },
  "language_info": {
   "codemirror_mode": {
    "name": "ipython",
    "version": 3
   },
   "file_extension": ".py",
   "mimetype": "text/x-python",
   "name": "python",
   "nbconvert_exporter": "python",
   "pygments_lexer": "ipython3",
   "version": "3.8.3"
  }
 },
 "nbformat": 4,
 "nbformat_minor": 4
}
