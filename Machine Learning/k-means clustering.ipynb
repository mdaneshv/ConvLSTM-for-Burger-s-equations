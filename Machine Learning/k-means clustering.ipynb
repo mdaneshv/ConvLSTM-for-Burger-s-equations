{
 "cells": [
  {
   "cell_type": "code",
   "execution_count": 5,
   "metadata": {},
   "outputs": [
    {
     "name": "stdout",
     "output_type": "stream",
     "text": [
      "Samples =\n",
      " [[ 4  5]\n",
      " [-2 -3]\n",
      " [ 3  4]\n",
      " [-5  4]\n",
      " [-4 -3]\n",
      " [ 4  6]\n",
      " [ 3  2]\n",
      " [-3  3]] \n",
      "\n",
      "Number of Clusters = 2 \n",
      "\n",
      "Class of samples X = [0, 1, 0, 1, 1, 0, 0, 1] \n",
      "\n",
      "Location of clusters =\n",
      " [[ 3.5   4.25]\n",
      " [-3.5   0.25]] \n",
      "\n",
      "New samples =\n",
      " [[ 3  2]\n",
      " [ 1 -1]\n",
      " [-1  1]\n",
      " [-2 -2]] \n",
      "\n",
      "Class of new samples =  [0, 1, 1, 1]\n"
     ]
    }
   ],
   "source": [
    "# -*- coding: utf-8 -*-\n",
    "\"\"\"\n",
    "Created on Mon Nov 11 14:24:32 2019\n",
    "\n",
    "@author: Mohammad Daneshvar\n",
    "\"\"\"\n",
    "\n",
    "import numpy as np\n",
    "import random\n",
    "\n",
    "\n",
    "def kmeans(X, Xnew, num_clus, num_iter):\n",
    "    \n",
    "    cluster = random.choices(X, k = num_clus)\n",
    "    m = np.shape(X)[0] \n",
    "    \n",
    "    for iteration in range(num_iter):\n",
    "        \n",
    "        # Assign the closest cluster to each sample\n",
    "        index = []    \n",
    "        for i in range(m):\n",
    "            distances = []\n",
    "            for j in range(num_clus):\n",
    "                distance = np.dot((X[i]-cluster[j]), (X[i]-cluster[j]))\n",
    "                distances.append(distance)\n",
    "            index.append(np.argmin(distances))\n",
    "            \n",
    "        # Move clusters to the average of their assigned samples\n",
    "        for j in range(num_clus):\n",
    "            assigned_samples = []\n",
    "            for i in range(m):\n",
    "                if index[i] == j:\n",
    "                    assigned_samples.append(X[i])\n",
    "            cluster[j] = np.mean(assigned_samples, axis=0) \n",
    "            \n",
    "    # Now predict new samples  \n",
    "    new_index = []\n",
    "    for i in range(len(Xnew)):\n",
    "        new_distances = []\n",
    "        for j in range(num_clus):\n",
    "            new_distance = np.dot((Xnew[i]-cluster[j]), (Xnew[i]-cluster[j]))\n",
    "            new_distances.append(new_distance)\n",
    "        new_index.append(np.argmin(new_distances)) \n",
    "   \n",
    "    return [index, cluster, new_index]\n",
    "\n",
    "\n",
    "X = np.array([[4,5],[-2,-3],[3,4],[-5,4],[-4,-3],[4,6],[3,2],[-3,3]])\n",
    "Xnew = np.array([[3,2],[1,-1],[-1,1],[-2,-2]]) \n",
    "num_clus = 2\n",
    "num_iter = 1000\n",
    "\n",
    "[index, cluster, new_index] = kmeans(X, Xnew, num_clus, num_iter)  \n",
    "print('Samples =\\n', X, '\\n')\n",
    "print('Number of Clusters =', num_clus, '\\n')\n",
    "print('Class of samples X =', index, '\\n')\n",
    "print('Location of clusters =\\n', np.matrix(cluster), '\\n')\n",
    "print('New samples =\\n', Xnew, '\\n')\n",
    "print('Class of new samples = ', new_index)\n"
   ]
  },
  {
   "cell_type": "markdown",
   "metadata": {},
   "source": [
    "As we can see in this simple yet interesting clustering, points $(x,y)$ where $x>0$ and $y>0$ are labeled 0 and others are labeled 1."
   ]
  }
 ],
 "metadata": {
  "kernelspec": {
   "display_name": "Python 3",
   "language": "python",
   "name": "python3"
  },
  "language_info": {
   "codemirror_mode": {
    "name": "ipython",
    "version": 3
   },
   "file_extension": ".py",
   "mimetype": "text/x-python",
   "name": "python",
   "nbconvert_exporter": "python",
   "pygments_lexer": "ipython3",
   "version": "3.8.3"
  }
 },
 "nbformat": 4,
 "nbformat_minor": 4
}
