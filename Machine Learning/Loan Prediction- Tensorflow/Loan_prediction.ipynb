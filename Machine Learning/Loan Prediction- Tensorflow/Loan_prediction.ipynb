{
  "nbformat": 4,
  "nbformat_minor": 0,
  "metadata": {
    "colab": {
      "name": "Loan prediction",
      "provenance": []
    },
    "kernelspec": {
      "name": "python3",
      "display_name": "Python 3"
    },
    "accelerator": "GPU"
  },
  "cells": [
    {
      "cell_type": "code",
      "metadata": {
        "id": "iPPy5KaB00e9"
      },
      "source": [
        "import numpy as np\n",
        "import pandas as pd\n",
        "import matplotlib.pyplot as plt\n",
        "from sklearn.preprocessing import MinMaxScaler\n",
        "import seaborn as sns\n",
        "import tensorflow as tf\n",
        "from tensorflow.keras.layers import Input, Dense, Flatten, BatchNormalization\n",
        "from tensorflow.keras.regularizers import l1, l2, l1_l2\n",
        "from tensorflow.keras.models import Model\n",
        "from tensorflow.keras.utils import plot_model\n",
        "from sklearn.metrics import confusion_matrix\n",
        "plt.style.use('seaborn')"
      ],
      "execution_count": 206,
      "outputs": []
    },
    {
      "cell_type": "code",
      "metadata": {
        "colab": {
          "base_uri": "https://localhost:8080/",
          "height": 241
        },
        "id": "vMAW5jfx1a6F",
        "outputId": "c62b4ed3-7d7c-47f4-d532-a3053257e8af"
      },
      "source": [
        "# Read the data\n",
        "train = pd.read_csv('train.csv')\n",
        "test_X = pd.read_csv('test.csv')\n",
        "train.head()"
      ],
      "execution_count": 207,
      "outputs": [
        {
          "output_type": "execute_result",
          "data": {
            "text/html": [
              "<div>\n",
              "<style scoped>\n",
              "    .dataframe tbody tr th:only-of-type {\n",
              "        vertical-align: middle;\n",
              "    }\n",
              "\n",
              "    .dataframe tbody tr th {\n",
              "        vertical-align: top;\n",
              "    }\n",
              "\n",
              "    .dataframe thead th {\n",
              "        text-align: right;\n",
              "    }\n",
              "</style>\n",
              "<table border=\"1\" class=\"dataframe\">\n",
              "  <thead>\n",
              "    <tr style=\"text-align: right;\">\n",
              "      <th></th>\n",
              "      <th>Loan_ID</th>\n",
              "      <th>Gender</th>\n",
              "      <th>Married</th>\n",
              "      <th>Dependents</th>\n",
              "      <th>Education</th>\n",
              "      <th>Self_Employed</th>\n",
              "      <th>ApplicantIncome</th>\n",
              "      <th>CoapplicantIncome</th>\n",
              "      <th>LoanAmount</th>\n",
              "      <th>Loan_Amount_Term</th>\n",
              "      <th>Credit_History</th>\n",
              "      <th>Property_Area</th>\n",
              "      <th>Loan_Status</th>\n",
              "    </tr>\n",
              "  </thead>\n",
              "  <tbody>\n",
              "    <tr>\n",
              "      <th>0</th>\n",
              "      <td>LP001002</td>\n",
              "      <td>Male</td>\n",
              "      <td>No</td>\n",
              "      <td>0</td>\n",
              "      <td>Graduate</td>\n",
              "      <td>No</td>\n",
              "      <td>5849</td>\n",
              "      <td>0.0</td>\n",
              "      <td>NaN</td>\n",
              "      <td>360.0</td>\n",
              "      <td>1.0</td>\n",
              "      <td>Urban</td>\n",
              "      <td>Y</td>\n",
              "    </tr>\n",
              "    <tr>\n",
              "      <th>1</th>\n",
              "      <td>LP001003</td>\n",
              "      <td>Male</td>\n",
              "      <td>Yes</td>\n",
              "      <td>1</td>\n",
              "      <td>Graduate</td>\n",
              "      <td>No</td>\n",
              "      <td>4583</td>\n",
              "      <td>1508.0</td>\n",
              "      <td>128.0</td>\n",
              "      <td>360.0</td>\n",
              "      <td>1.0</td>\n",
              "      <td>Rural</td>\n",
              "      <td>N</td>\n",
              "    </tr>\n",
              "    <tr>\n",
              "      <th>2</th>\n",
              "      <td>LP001005</td>\n",
              "      <td>Male</td>\n",
              "      <td>Yes</td>\n",
              "      <td>0</td>\n",
              "      <td>Graduate</td>\n",
              "      <td>Yes</td>\n",
              "      <td>3000</td>\n",
              "      <td>0.0</td>\n",
              "      <td>66.0</td>\n",
              "      <td>360.0</td>\n",
              "      <td>1.0</td>\n",
              "      <td>Urban</td>\n",
              "      <td>Y</td>\n",
              "    </tr>\n",
              "    <tr>\n",
              "      <th>3</th>\n",
              "      <td>LP001006</td>\n",
              "      <td>Male</td>\n",
              "      <td>Yes</td>\n",
              "      <td>0</td>\n",
              "      <td>Not Graduate</td>\n",
              "      <td>No</td>\n",
              "      <td>2583</td>\n",
              "      <td>2358.0</td>\n",
              "      <td>120.0</td>\n",
              "      <td>360.0</td>\n",
              "      <td>1.0</td>\n",
              "      <td>Urban</td>\n",
              "      <td>Y</td>\n",
              "    </tr>\n",
              "    <tr>\n",
              "      <th>4</th>\n",
              "      <td>LP001008</td>\n",
              "      <td>Male</td>\n",
              "      <td>No</td>\n",
              "      <td>0</td>\n",
              "      <td>Graduate</td>\n",
              "      <td>No</td>\n",
              "      <td>6000</td>\n",
              "      <td>0.0</td>\n",
              "      <td>141.0</td>\n",
              "      <td>360.0</td>\n",
              "      <td>1.0</td>\n",
              "      <td>Urban</td>\n",
              "      <td>Y</td>\n",
              "    </tr>\n",
              "  </tbody>\n",
              "</table>\n",
              "</div>"
            ],
            "text/plain": [
              "    Loan_ID Gender Married  ... Credit_History Property_Area Loan_Status\n",
              "0  LP001002   Male      No  ...            1.0         Urban           Y\n",
              "1  LP001003   Male     Yes  ...            1.0         Rural           N\n",
              "2  LP001005   Male     Yes  ...            1.0         Urban           Y\n",
              "3  LP001006   Male     Yes  ...            1.0         Urban           Y\n",
              "4  LP001008   Male      No  ...            1.0         Urban           Y\n",
              "\n",
              "[5 rows x 13 columns]"
            ]
          },
          "metadata": {
            "tags": []
          },
          "execution_count": 207
        }
      ]
    },
    {
      "cell_type": "code",
      "metadata": {
        "colab": {
          "base_uri": "https://localhost:8080/"
        },
        "id": "PUOPLOpeKNSm",
        "outputId": "9b4c4942-6881-4159-82dc-b20900e93803"
      },
      "source": [
        "train_Y = train.pop('Loan_Status')\n",
        "train.pop('Loan_ID')\n",
        "train_X = train\n",
        "loan_id = test_X.pop('Loan_ID')\n",
        "\n",
        "print('train_X =', train_X.shape)\n",
        "print('train_Y =', train_Y.shape)\n",
        "print('test_X =', test_X.shape)"
      ],
      "execution_count": 208,
      "outputs": [
        {
          "output_type": "stream",
          "text": [
            "train_X = (614, 11)\n",
            "train_Y = (614,)\n",
            "test_X = (367, 11)\n"
          ],
          "name": "stdout"
        }
      ]
    },
    {
      "cell_type": "code",
      "metadata": {
        "colab": {
          "base_uri": "https://localhost:8080/"
        },
        "id": "l7u_ELs5G1Bb",
        "outputId": "3c2199c0-9278-4d23-a721-32586ad5614a"
      },
      "source": [
        "train_X.isnull().sum()"
      ],
      "execution_count": 209,
      "outputs": [
        {
          "output_type": "execute_result",
          "data": {
            "text/plain": [
              "Gender               13\n",
              "Married               3\n",
              "Dependents           15\n",
              "Education             0\n",
              "Self_Employed        32\n",
              "ApplicantIncome       0\n",
              "CoapplicantIncome     0\n",
              "LoanAmount           22\n",
              "Loan_Amount_Term     14\n",
              "Credit_History       50\n",
              "Property_Area         0\n",
              "dtype: int64"
            ]
          },
          "metadata": {
            "tags": []
          },
          "execution_count": 209
        }
      ]
    },
    {
      "cell_type": "code",
      "metadata": {
        "colab": {
          "base_uri": "https://localhost:8080/"
        },
        "id": "fDluhltFHJ_i",
        "outputId": "fec37083-fe33-484d-c9df-947f8e15a78c"
      },
      "source": [
        "test_X.isnull().sum()"
      ],
      "execution_count": 210,
      "outputs": [
        {
          "output_type": "execute_result",
          "data": {
            "text/plain": [
              "Gender               11\n",
              "Married               0\n",
              "Dependents           10\n",
              "Education             0\n",
              "Self_Employed        23\n",
              "ApplicantIncome       0\n",
              "CoapplicantIncome     0\n",
              "LoanAmount            5\n",
              "Loan_Amount_Term      6\n",
              "Credit_History       29\n",
              "Property_Area         0\n",
              "dtype: int64"
            ]
          },
          "metadata": {
            "tags": []
          },
          "execution_count": 210
        }
      ]
    },
    {
      "cell_type": "code",
      "metadata": {
        "id": "LXTdgswyHH0z"
      },
      "source": [
        "for column in [\"Gender\", \"Married\", \"Dependents\", \"Self_Employed\",\n",
        "               \"Loan_Amount_Term\", \"Credit_History\"]:\n",
        "    train_X[column].fillna(train_X[column].mode()[0], inplace=True)\n",
        "    test_X[column].fillna(test_X[column].mode()[0], inplace=True)\n",
        "\n",
        "train_X['LoanAmount'].fillna(train_X['LoanAmount'].mean(), inplace=True)\n",
        "test_X['LoanAmount'].fillna(test_X['LoanAmount'].mean(), inplace=True) "
      ],
      "execution_count": 211,
      "outputs": []
    },
    {
      "cell_type": "code",
      "metadata": {
        "colab": {
          "base_uri": "https://localhost:8080/"
        },
        "id": "-cAnrmeUHGHg",
        "outputId": "9939e51a-c8f2-434f-e89a-d9644e2df3fc"
      },
      "source": [
        "df = pd.concat([train_X,test_X], ignore_index=True)\n",
        "df.isnull().sum()"
      ],
      "execution_count": 212,
      "outputs": [
        {
          "output_type": "execute_result",
          "data": {
            "text/plain": [
              "Gender               0\n",
              "Married              0\n",
              "Dependents           0\n",
              "Education            0\n",
              "Self_Employed        0\n",
              "ApplicantIncome      0\n",
              "CoapplicantIncome    0\n",
              "LoanAmount           0\n",
              "Loan_Amount_Term     0\n",
              "Credit_History       0\n",
              "Property_Area        0\n",
              "dtype: int64"
            ]
          },
          "metadata": {
            "tags": []
          },
          "execution_count": 212
        }
      ]
    },
    {
      "cell_type": "code",
      "metadata": {
        "colab": {
          "base_uri": "https://localhost:8080/"
        },
        "id": "xAA25hBmBFz_",
        "outputId": "cac0ae9f-9666-4cbf-ac63-0c6eac54aea4"
      },
      "source": [
        "for column in df.columns:\n",
        "  if column in ['ApplicantIncome', 'CoapplicantIncome', 'LoanAmount']:\n",
        "    continue\n",
        "  else:  \n",
        "    print('%s:' %column, df[column].unique(),'\\n')"
      ],
      "execution_count": 213,
      "outputs": [
        {
          "output_type": "stream",
          "text": [
            "Gender: ['Male' 'Female'] \n",
            "\n",
            "Married: ['No' 'Yes'] \n",
            "\n",
            "Dependents: ['0' '1' '2' '3+'] \n",
            "\n",
            "Education: ['Graduate' 'Not Graduate'] \n",
            "\n",
            "Self_Employed: ['No' 'Yes'] \n",
            "\n",
            "Loan_Amount_Term: [360. 120. 240. 180.  60. 300. 480.  36.  84.  12. 350.   6.] \n",
            "\n",
            "Credit_History: [1. 0.] \n",
            "\n",
            "Property_Area: ['Urban' 'Rural' 'Semiurban'] \n",
            "\n"
          ],
          "name": "stdout"
        }
      ]
    },
    {
      "cell_type": "code",
      "metadata": {
        "id": "x7N5VTn2FViG"
      },
      "source": [
        "# Categorical to Numerical\n",
        "train_X = pd.get_dummies(train_X, columns=[\"Gender\", \"Married\",\n",
        "                            \"Education\", \"Self_Employed\", \"Property_Area\"])\n",
        "test_X = pd.get_dummies(test_X, columns=[\"Gender\", \"Married\",\n",
        "                            \"Education\", \"Self_Employed\", \"Property_Area\"])\n",
        "train_X['Dependents'] = [0.0 if x=='0' else 1.0 if x=='1' else 2.0 if x=='2' else 3 for x in train_X['Dependents']]\n",
        "test_X['Dependents'] = [0.0 if x=='0' else 1.0 if x=='1' else 2.0 if x=='2' else 3 for x in test_X['Dependents']]\n",
        "train_Y = [1.0 if x=='Y' else 0.0 for x in train_Y]"
      ],
      "execution_count": 214,
      "outputs": []
    },
    {
      "cell_type": "code",
      "metadata": {
        "id": "RYLs-9eK3uQ8"
      },
      "source": [
        "# # Change categorical data to numerical data \n",
        "# df['Gender'] = [1.0 if x=='Male' else 0.0 for x in df['Gender']]\n",
        "# df['Married'] = [1.0 if x=='Yes' else 0.0 for x in df['Married']]\n",
        "# df['Education'] = [1.0 if x=='Graduate' else 0.0 for x in df[\"Education\"]]\n",
        "# df['Self_Employed'] = [1.0 if x=='Yes' else 0.0 for x in df[\"Self_Employed\"]]\n",
        "# df['Property_Area'] = [0.0 if x=='Urban' else 1.0 if x=='Semiurban' else 2 for x in df[\"Property_Area\"]]\n",
        "# df['Dependents'] = [0.0 if x=='0' else 1.0 if x=='1' else 2.0 if x=='2' else 3 for x in df['Dependents']]\n",
        "# train_Y = [1.0 if x=='Y' else 0.0 for x in train_Y]"
      ],
      "execution_count": null,
      "outputs": []
    },
    {
      "cell_type": "code",
      "metadata": {
        "colab": {
          "base_uri": "https://localhost:8080/"
        },
        "id": "saT4l343FqF7",
        "outputId": "894b3775-5f0c-4c3a-cfad-a8b359619e2b"
      },
      "source": [
        "print('train_X=',train_X.shape)\n",
        "print('test_X=',test_X.shape)"
      ],
      "execution_count": 215,
      "outputs": [
        {
          "output_type": "stream",
          "text": [
            "train_X= (614, 17)\n",
            "test_X= (367, 17)\n"
          ],
          "name": "stdout"
        }
      ]
    },
    {
      "cell_type": "code",
      "metadata": {
        "id": "aa7hAUZ77k7f"
      },
      "source": [
        "# Normalize the data\n",
        "scaler = MinMaxScaler()\n",
        "train_X = scaler.fit_transform(train_X)\n",
        "test_X = scaler.fit_transform(test_X)\n",
        "train_Y = np.asarray(train_Y, dtype='float64')"
      ],
      "execution_count": 216,
      "outputs": []
    },
    {
      "cell_type": "code",
      "metadata": {
        "id": "9BrnUP37IfSq",
        "colab": {
          "base_uri": "https://localhost:8080/"
        },
        "outputId": "32ab3dce-7e2b-436b-d7ac-59a9290e2fbe"
      },
      "source": [
        "# build the model using functional API\n",
        "def build_model(inputs, units, batch_size, lr):\n",
        "  adam = tf.keras.optimizers.Adam(\n",
        "    learning_rate=lr, beta_1=0.9, beta_2=0.999, epsilon=1e-07, amsgrad=False)\n",
        "  callback = tf.keras.callbacks.EarlyStopping(monitor='accuracy', patience=10)\n",
        "\n",
        "  x = Dense(units=units, name='first_dense', activation='relu')(inputs)\n",
        "  x = Dense(units=1, name='Output', activation='sigmoid')(x)\n",
        "  model =  Model(inputs=inputs, outputs=x)\n",
        "\n",
        "  model.compile(optimizer=adam, loss='binary_crossentropy', metrics='accuracy')\n",
        "  history = model.fit(train_X, train_Y, batch_size=batch_size, epochs=1000,\n",
        "                      callbacks=[callback] ,verbose=0)\n",
        "  return history\n",
        "\n",
        "\n",
        "inputs = Input(shape=(17,), name='input_layer')\n",
        "result = []\n",
        "for units in [32, 64, 128, 256]:\n",
        "  for batch_size in [32, 64, 128, 256]:\n",
        "    for lr in [0.001, 0.01, 0.1]:\n",
        "      history = build_model(inputs, units, batch_size, lr)\n",
        "      print(history.history['accuracy'][-1],'for (units, batch_size, lr)={}'\n",
        "            .format((units,batch_size,lr)))"
      ],
      "execution_count": 228,
      "outputs": [
        {
          "output_type": "stream",
          "text": [
            "0.8110749125480652 for (units, batch_size, lr)=(32, 32, 0.001)\n",
            "0.8127036094665527 for (units, batch_size, lr)=(32, 32, 0.01)\n",
            "0.8143322467803955 for (units, batch_size, lr)=(32, 32, 0.1)\n",
            "0.8127036094665527 for (units, batch_size, lr)=(32, 64, 0.001)\n",
            "0.8110749125480652 for (units, batch_size, lr)=(32, 64, 0.01)\n",
            "0.8143322467803955 for (units, batch_size, lr)=(32, 64, 0.1)\n",
            "0.6872963905334473 for (units, batch_size, lr)=(32, 128, 0.001)\n",
            "0.8110749125480652 for (units, batch_size, lr)=(32, 128, 0.01)\n",
            "0.8094462752342224 for (units, batch_size, lr)=(32, 128, 0.1)\n",
            "0.6872963905334473 for (units, batch_size, lr)=(32, 256, 0.001)\n",
            "0.8110749125480652 for (units, batch_size, lr)=(32, 256, 0.01)\n",
            "0.8143322467803955 for (units, batch_size, lr)=(32, 256, 0.1)\n",
            "0.8127036094665527 for (units, batch_size, lr)=(64, 32, 0.001)\n",
            "0.8110749125480652 for (units, batch_size, lr)=(64, 32, 0.01)\n",
            "0.8159608840942383 for (units, batch_size, lr)=(64, 32, 0.1)\n",
            "0.8110749125480652 for (units, batch_size, lr)=(64, 64, 0.001)\n",
            "0.8550488352775574 for (units, batch_size, lr)=(64, 64, 0.01)\n",
            "0.8127036094665527 for (units, batch_size, lr)=(64, 64, 0.1)\n",
            "0.8127036094665527 for (units, batch_size, lr)=(64, 128, 0.001)\n",
            "0.8127036094665527 for (units, batch_size, lr)=(64, 128, 0.01)\n",
            "0.8127036094665527 for (units, batch_size, lr)=(64, 128, 0.1)\n",
            "0.6872963905334473 for (units, batch_size, lr)=(64, 256, 0.001)\n",
            "0.8127036094665527 for (units, batch_size, lr)=(64, 256, 0.01)\n",
            "0.8110749125480652 for (units, batch_size, lr)=(64, 256, 0.1)\n",
            "0.8110749125480652 for (units, batch_size, lr)=(128, 32, 0.001)\n",
            "0.8127036094665527 for (units, batch_size, lr)=(128, 32, 0.01)\n",
            "0.8143322467803955 for (units, batch_size, lr)=(128, 32, 0.1)\n",
            "0.8127036094665527 for (units, batch_size, lr)=(128, 64, 0.001)\n",
            "0.8110749125480652 for (units, batch_size, lr)=(128, 64, 0.01)\n",
            "0.8110749125480652 for (units, batch_size, lr)=(128, 64, 0.1)\n",
            "0.8127036094665527 for (units, batch_size, lr)=(128, 128, 0.001)\n",
            "0.8159608840942383 for (units, batch_size, lr)=(128, 128, 0.01)\n",
            "0.8159608840942383 for (units, batch_size, lr)=(128, 128, 0.1)\n",
            "0.8127036094665527 for (units, batch_size, lr)=(128, 256, 0.001)\n",
            "0.8110749125480652 for (units, batch_size, lr)=(128, 256, 0.01)\n",
            "0.8110749125480652 for (units, batch_size, lr)=(128, 256, 0.1)\n",
            "0.8127036094665527 for (units, batch_size, lr)=(256, 32, 0.001)\n",
            "0.8094462752342224 for (units, batch_size, lr)=(256, 32, 0.01)\n",
            "0.8159608840942383 for (units, batch_size, lr)=(256, 32, 0.1)\n",
            "0.8127036094665527 for (units, batch_size, lr)=(256, 64, 0.001)\n",
            "0.8387622237205505 for (units, batch_size, lr)=(256, 64, 0.01)\n",
            "0.8094462752342224 for (units, batch_size, lr)=(256, 64, 0.1)\n",
            "0.8127036094665527 for (units, batch_size, lr)=(256, 128, 0.001)\n",
            "0.8224755525588989 for (units, batch_size, lr)=(256, 128, 0.01)\n",
            "0.7996742725372314 for (units, batch_size, lr)=(256, 128, 0.1)\n",
            "0.8110749125480652 for (units, batch_size, lr)=(256, 256, 0.001)\n",
            "0.8127036094665527 for (units, batch_size, lr)=(256, 256, 0.01)\n",
            "0.6872963905334473 for (units, batch_size, lr)=(256, 256, 0.1)\n"
          ],
          "name": "stdout"
        }
      ]
    },
    {
      "cell_type": "code",
      "metadata": {
        "colab": {
          "base_uri": "https://localhost:8080/",
          "height": 1000
        },
        "id": "sbXiq-zWVJjY",
        "outputId": "6db855a0-9947-40a8-b250-a0d1849c6a60"
      },
      "source": [
        "def build_model():\n",
        "\n",
        "  adam = tf.keras.optimizers.Adam(\n",
        "    learning_rate=0.001, beta_1=0.9, beta_2=0.999, epsilon=1e-07, amsgrad=False)\n",
        "  callback = tf.keras.callbacks.EarlyStopping(monitor='accuracy', patience=10)\n",
        "\n",
        "  inputs = Input(shape=(17,), name='input_layer')\n",
        "  x = Dense(units=128, name='first_dense', activation='relu')(inputs)\n",
        "  x = Dense(units=1, name='Output', activation='sigmoid')(x)\n",
        "  model =  Model(inputs=inputs, outputs=x)\n",
        "\n",
        "  tf.keras.utils.plot_model(\n",
        "    model, to_file='model.png', show_shapes=True, show_dtype=True,\n",
        "    show_layer_names=True, rankdir='TB', expand_nested=False)\n",
        "\n",
        "  model.compile(optimizer=adam, loss='binary_crossentropy', metrics='accuracy')\n",
        "  history = model.fit(train_X, train_Y, batch_size=256, epochs=2000,\n",
        "                       callbacks=[callback], verbose=1)\n",
        "  \n",
        "  return [model, history, pred_df]\n",
        "\n",
        "[model, history, pred_df] = build_model()\n",
        "predictions = model.predict(test_X)\n",
        "pred = ['Y' if x >=0.5 else 'N' for x in predictions]\n",
        "pred_dic = list(zip(loan_id, pred))\n",
        "pred_df = pd.DataFrame(pred_dic, columns=['Loan_ID', 'Loan_Status'])\n",
        "pred_df.to_csv ('predict.csv', index = False, header=True)\n",
        "\n",
        "# Confusion Matrix on the trainig set\n",
        "train_pred = model.predict(train_X)\n",
        "train_pred = [1 if x >=0.5 else 0 for x in train_pred]\n",
        "CM = confusion_matrix(train_pred, train_Y)\n",
        "labels = np.array(['true positive : %i' %CM[0][0] , 'false positive: %i' %CM[0][1],\n",
        "                  'false negative: %i'%CM[1][0], 'true negative: %i'%CM[1][1]])\n",
        "labels = labels.reshape((2,2))\n",
        "sns.heatmap(CM, annot=labels, cmap=None, fmt='');\n",
        "plt.title('Confusion matrix on the train set', fontsize=14)\n",
        "plt.show()\n",
        "\n",
        "results = history.history\n",
        "epochs = len(history.history['loss'])\n",
        "plt.figure(figsize=(10,5))\n",
        "plt.subplot(121)\n",
        "plt.plot(np.arange(epochs), results['accuracy'])\n",
        "plt.title('Accuracy on the train set', fontsize=14)\n",
        "plt.subplot(122)\n",
        "plt.plot(np.arange(epochs), results['loss'])\n",
        "plt.title('Loss on the train set', fontsize=14)\n",
        "plt.tight_layout()\n",
        "plt.show()"
      ],
      "execution_count": 237,
      "outputs": [
        {
          "output_type": "stream",
          "text": [
            "Epoch 1/2000\n",
            "3/3 [==============================] - 0s 4ms/step - loss: 0.7115 - accuracy: 0.4105\n",
            "Epoch 2/2000\n",
            "3/3 [==============================] - 0s 4ms/step - loss: 0.6695 - accuracy: 0.6443\n",
            "Epoch 3/2000\n",
            "3/3 [==============================] - 0s 4ms/step - loss: 0.6350 - accuracy: 0.6937\n",
            "Epoch 4/2000\n",
            "3/3 [==============================] - 0s 3ms/step - loss: 0.6200 - accuracy: 0.6745\n",
            "Epoch 5/2000\n",
            "3/3 [==============================] - 0s 3ms/step - loss: 0.5972 - accuracy: 0.6947\n",
            "Epoch 6/2000\n",
            "3/3 [==============================] - 0s 4ms/step - loss: 0.5945 - accuracy: 0.6874\n",
            "Epoch 7/2000\n",
            "3/3 [==============================] - 0s 4ms/step - loss: 0.5855 - accuracy: 0.6937\n",
            "Epoch 8/2000\n",
            "3/3 [==============================] - 0s 3ms/step - loss: 0.5831 - accuracy: 0.6908\n",
            "Epoch 9/2000\n",
            "3/3 [==============================] - 0s 4ms/step - loss: 0.5890 - accuracy: 0.6820\n",
            "Epoch 10/2000\n",
            "3/3 [==============================] - 0s 3ms/step - loss: 0.5860 - accuracy: 0.6825\n",
            "Epoch 11/2000\n",
            "3/3 [==============================] - 0s 4ms/step - loss: 0.5739 - accuracy: 0.6894\n",
            "Epoch 12/2000\n",
            "3/3 [==============================] - 0s 4ms/step - loss: 0.5692 - accuracy: 0.6902\n",
            "Epoch 13/2000\n",
            "3/3 [==============================] - 0s 4ms/step - loss: 0.5778 - accuracy: 0.6843\n",
            "Epoch 14/2000\n",
            "3/3 [==============================] - 0s 4ms/step - loss: 0.5652 - accuracy: 0.6964\n",
            "Epoch 15/2000\n",
            "3/3 [==============================] - 0s 4ms/step - loss: 0.5609 - accuracy: 0.7130\n",
            "Epoch 16/2000\n",
            "3/3 [==============================] - 0s 4ms/step - loss: 0.5586 - accuracy: 0.7218\n",
            "Epoch 17/2000\n",
            "3/3 [==============================] - 0s 4ms/step - loss: 0.5446 - accuracy: 0.7408\n",
            "Epoch 18/2000\n",
            "3/3 [==============================] - 0s 3ms/step - loss: 0.5531 - accuracy: 0.7318\n",
            "Epoch 19/2000\n",
            "3/3 [==============================] - 0s 4ms/step - loss: 0.5448 - accuracy: 0.7390\n",
            "Epoch 20/2000\n",
            "3/3 [==============================] - 0s 3ms/step - loss: 0.5458 - accuracy: 0.7393\n",
            "Epoch 21/2000\n",
            "3/3 [==============================] - 0s 3ms/step - loss: 0.5356 - accuracy: 0.7447\n",
            "Epoch 22/2000\n",
            "3/3 [==============================] - 0s 4ms/step - loss: 0.5454 - accuracy: 0.7382\n",
            "Epoch 23/2000\n",
            "3/3 [==============================] - 0s 3ms/step - loss: 0.5315 - accuracy: 0.7517\n",
            "Epoch 24/2000\n",
            "3/3 [==============================] - 0s 3ms/step - loss: 0.5176 - accuracy: 0.7646\n",
            "Epoch 25/2000\n",
            "3/3 [==============================] - 0s 4ms/step - loss: 0.5286 - accuracy: 0.7670\n",
            "Epoch 26/2000\n",
            "3/3 [==============================] - 0s 3ms/step - loss: 0.5272 - accuracy: 0.7667\n",
            "Epoch 27/2000\n",
            "3/3 [==============================] - 0s 3ms/step - loss: 0.5172 - accuracy: 0.7776\n",
            "Epoch 28/2000\n",
            "3/3 [==============================] - 0s 3ms/step - loss: 0.5250 - accuracy: 0.7768\n",
            "Epoch 29/2000\n",
            "3/3 [==============================] - 0s 3ms/step - loss: 0.5076 - accuracy: 0.7872\n",
            "Epoch 30/2000\n",
            "3/3 [==============================] - 0s 3ms/step - loss: 0.5030 - accuracy: 0.7882\n",
            "Epoch 31/2000\n",
            "3/3 [==============================] - 0s 5ms/step - loss: 0.5083 - accuracy: 0.7879\n",
            "Epoch 32/2000\n",
            "3/3 [==============================] - 0s 4ms/step - loss: 0.5115 - accuracy: 0.7859\n",
            "Epoch 33/2000\n",
            "3/3 [==============================] - 0s 4ms/step - loss: 0.5026 - accuracy: 0.7989\n",
            "Epoch 34/2000\n",
            "3/3 [==============================] - 0s 3ms/step - loss: 0.4956 - accuracy: 0.7994\n",
            "Epoch 35/2000\n",
            "3/3 [==============================] - 0s 3ms/step - loss: 0.5028 - accuracy: 0.7893\n",
            "Epoch 36/2000\n",
            "3/3 [==============================] - 0s 4ms/step - loss: 0.4997 - accuracy: 0.7913\n",
            "Epoch 37/2000\n",
            "3/3 [==============================] - 0s 3ms/step - loss: 0.4834 - accuracy: 0.8116\n",
            "Epoch 38/2000\n",
            "3/3 [==============================] - 0s 5ms/step - loss: 0.4878 - accuracy: 0.8144\n",
            "Epoch 39/2000\n",
            "3/3 [==============================] - 0s 4ms/step - loss: 0.4900 - accuracy: 0.8133\n",
            "Epoch 40/2000\n",
            "3/3 [==============================] - 0s 4ms/step - loss: 0.4789 - accuracy: 0.8133\n",
            "Epoch 41/2000\n",
            "3/3 [==============================] - 0s 3ms/step - loss: 0.4933 - accuracy: 0.8045\n",
            "Epoch 42/2000\n",
            "3/3 [==============================] - 0s 4ms/step - loss: 0.4715 - accuracy: 0.8211\n",
            "Epoch 43/2000\n",
            "3/3 [==============================] - 0s 3ms/step - loss: 0.4731 - accuracy: 0.8167\n",
            "Epoch 44/2000\n",
            "3/3 [==============================] - 0s 3ms/step - loss: 0.4791 - accuracy: 0.8118\n",
            "Epoch 45/2000\n",
            "3/3 [==============================] - 0s 4ms/step - loss: 0.4731 - accuracy: 0.8176\n",
            "Epoch 46/2000\n",
            "3/3 [==============================] - 0s 4ms/step - loss: 0.4789 - accuracy: 0.8045\n",
            "Epoch 47/2000\n",
            "3/3 [==============================] - 0s 4ms/step - loss: 0.4741 - accuracy: 0.8133\n",
            "Epoch 48/2000\n",
            "3/3 [==============================] - 0s 3ms/step - loss: 0.4749 - accuracy: 0.8079\n",
            "Epoch 49/2000\n",
            "3/3 [==============================] - 0s 3ms/step - loss: 0.4682 - accuracy: 0.8133\n"
          ],
          "name": "stdout"
        },
        {
          "output_type": "display_data",
          "data": {
            "image/png": "[encoded data removed]",
            "text/plain": [
              "<Figure size 576x396 with 2 Axes>"
            ]
          },
          "metadata": {
            "tags": []
          }
        },
        {
          "output_type": "display_data",
          "data": {
            "image/png": "[encoded data removed]",
            "text/plain": [
              "<Figure size 720x360 with 2 Axes>"
            ]
          },
          "metadata": {
            "tags": []
          }
        }
      ]
    }
  ]
}